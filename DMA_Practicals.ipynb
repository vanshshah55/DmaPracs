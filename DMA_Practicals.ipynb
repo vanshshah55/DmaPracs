{
  "nbformat": 4,
  "nbformat_minor": 0,
  "metadata": {
    "colab": {
      "provenance": [],
      "authorship_tag": "ABX9TyN3yrbZps5bAg9y6q9y0L8X",
      "include_colab_link": true
    },
    "kernelspec": {
      "name": "python3",
      "display_name": "Python 3"
    },
    "language_info": {
      "name": "python"
    }
  },
  "cells": [
    {
      "cell_type": "markdown",
      "metadata": {
        "id": "view-in-github",
        "colab_type": "text"
      },
      "source": [
        "<a href=\"https://colab.research.google.com/github/vanshshah55/DmaPracs/blob/main/DMA_Practicals.ipynb\" target=\"_parent\"><img src=\"https://colab.research.google.com/assets/colab-badge.svg\" alt=\"Open In Colab\"/></a>"
      ]
    },
    {
      "cell_type": "markdown",
      "source": [
        "DMA EXPERIMENT 1\n",
        "\n",
        "*   Pandas\n",
        "\n"
      ],
      "metadata": {
        "id": "ufOJpSewlXK-"
      }
    },
    {
      "cell_type": "code",
      "source": [
        "import numpy as np\n",
        "import pandas as pd\n",
        "\n",
        "file_path=\"sampledata.xlsx\"\n",
        "\n",
        "df=pd.read_excel(file_path)\n",
        "\n",
        "\n",
        "column_list=(list(df.columns[2:5]))\n",
        "print(column_list)\n",
        "\n",
        "for i in column_list:\n",
        "  print(f\"********************************************************************\")\n",
        "  print(f\"***************\",i,\"************************************************\")\n",
        "  print(f\"********************************************************************\")\n",
        "  data_column_name=i\n",
        "  data=df[data_column_name]\n",
        "  summary_statistics = data.describe()\n",
        "  print(summary_statistics)\n",
        "  print(f\"mean = \",data.mean())\n",
        "  print(f\"median = \",data.median())\n",
        "  print(f\"mode = \",data.mode().iloc[0])\n",
        "  print(f\"standard deviaition = \",data.std())\n",
        "  print(f\"25 percentile = \",data.quantile(0.25))\n",
        "  print(f\"50 percentile = \",data.quantile(0.50))\n",
        "  print(f\"75 percentile = \",data.quantile(0.75))"
      ],
      "metadata": {
        "id": "CZZhpT73lc4P"
      },
      "execution_count": null,
      "outputs": []
    },
    {
      "cell_type": "markdown",
      "source": [
        "\n",
        "\n",
        "*   Numpy\n",
        "\n",
        "\n"
      ],
      "metadata": {
        "id": "UQ82C54fyM1a"
      }
    },
    {
      "cell_type": "code",
      "source": [
        "import numpy as np\n",
        "import pandas as pd\n",
        "file_path=\"sampledata.xlsx\"\n",
        "\n",
        "df=pd.read_excel(file_path)\n",
        "column_list=(list(df.columns[2:5]))\n",
        "print(column_list)\n",
        "\n",
        "numerical_data = df.iloc[:, 2:5]\n",
        "\n",
        "for i in numerical_data.columns:\n",
        "  column_data = numerical_data[i]\n",
        "  mean=np.mean(column_data)\n",
        "  median = np.median(column_data)\n",
        "  mode = column_data.mode().values[0]\n",
        "  std_dev = np.std(column_data)\n",
        "  quartiles = np.percentile(column_data, [25, 50, 75])\n",
        "\n",
        "  print(f\"Name: {i}\")\n",
        "  print(f\"mean = {mean}\")\n",
        "  print(f\"median = {median}\")\n",
        "  print(f\"mode = {mode}\")\n",
        "  print(f\"standard deviation = {std_dev}\")\n",
        "  print(f\"25th percentile = {quartiles[0]}\")\n",
        "  print(f\"50th percentile = {quartiles[1]}\")\n",
        "  print(f\"75th percentile = {quartiles[2]}\\n\")\n"
      ],
      "metadata": {
        "id": "rfKB_-CDyXUp"
      },
      "execution_count": null,
      "outputs": []
    },
    {
      "cell_type": "markdown",
      "source": [
        "DMA EXPERIMENT 2"
      ],
      "metadata": {
        "id": "2HMYTl2XbgVm"
      }
    },
    {
      "cell_type": "code",
      "source": [
        "import numpy as np\n",
        "import pandas as pd\n",
        "\n",
        "file_path=\"sampledata2.xlsx\"\n",
        "\n",
        "data=pd.read_excel(file_path)\n",
        "\n",
        "missing_values=data.isnull().sum()\n",
        "print(f\"total numbers of missing values per column\")\n",
        "print(missing_values)\n",
        "numeric_data = data.select_dtypes(include=np.number)\n",
        "\n",
        "#data.fillna(numeric_data.mean(),inplace=True)\n",
        "\n",
        "#missing_values=data.isnull().sum()\n",
        "#print(missing_values)\n",
        "#print(data)\n",
        "print(data.shape)\n",
        "data_clean=data.dropna(inplace=True)\n",
        "#print(data)\n",
        "\n",
        "original_length = len(data)\n",
        "data.drop_duplicates(inplace=True)\n",
        "new_length = len(data)\n",
        "\n",
        "print(original_length)\n",
        "print(new_length)\n",
        "print(data)\n",
        "print(data.shape)"
      ],
      "metadata": {
        "id": "r7dZGWppbm0X"
      },
      "execution_count": null,
      "outputs": []
    },
    {
      "cell_type": "markdown",
      "source": [
        "DMA EXPERIMENT 3"
      ],
      "metadata": {
        "id": "umHd2ckTb14x"
      }
    },
    {
      "cell_type": "code",
      "source": [
        "import numpy as np\n",
        "import pandas as pd\n",
        "\n",
        "df = pd.DataFrame({\n",
        "    'Fruit': ['apple', 'mango', 'apple', 'orange'],\n",
        "    'Price': [5, 10, 15, 20]\n",
        "})\n",
        "print(df)\n",
        "\n",
        "encoded_df=pd.get_dummies(df,prefix='',dtype=int)\n",
        "\n",
        "\n",
        "print(encoded_df)\n"
      ],
      "metadata": {
        "id": "lBZmjQiTb4qA"
      },
      "execution_count": null,
      "outputs": []
    },
    {
      "cell_type": "markdown",
      "source": [
        "DMA EXPERIMENT 4"
      ],
      "metadata": {
        "id": "8BRKyx21un0T"
      }
    },
    {
      "cell_type": "code",
      "source": [
        "import numpy as np\n",
        "import pandas as pd\n",
        "from sklearn.model_selection import train_test_split\n",
        "from sklearn.preprocessing import StandardScaler\n",
        "import matplotlib.pyplot as plt\n",
        "\n",
        "file_path = \"sampledata_4.xlsx\"\n",
        "data = pd.read_excel(file_path)\n",
        "print(data)\n",
        "\n",
        "field = 'Age'\n",
        "\n",
        "# Drop rows with missing values in the 'Age' column\n",
        "data.dropna(subset=[field], inplace=True)\n",
        "\n",
        "# Standardize the 'Age' variable\n",
        "scaler = StandardScaler()\n",
        "data[field+'_standardized'] = scaler.fit_transform(data[[field]])\n",
        "\n",
        "# Identify outliers\n",
        "q1 = data[field+'_standardized'].quantile(0.25)\n",
        "q3 = data[field+'_standardized'].quantile(0.75)\n",
        "iqr = q3 - q1\n",
        "lower_bound = q1 - 1.5 * iqr\n",
        "upper_bound = q3 + 1.5 * iqr\n",
        "\n",
        "outliers = data[(data[field+'_standardized'] < lower_bound) | (data[field+'_standardized'] > upper_bound)]\n",
        "num_outliers = len(outliers)\n",
        "most_extreme_outlier = outliers[field+'_standardized'].min() if num_outliers > 0 else None\n",
        "\n",
        "print(\"Number of outliers:\", num_outliers)\n",
        "print(\"Most extreme outlier:\", most_extreme_outlier)\n",
        "\n",
        "plt.figure(figsize=(8,6))\n",
        "data.boxplot(column=field)\n",
        "plt.ylabel('Age')\n",
        "plt.show()\n",
        "\n",
        "# Partition the dataset\n",
        "X = data.drop(columns=[field, field+'_standardized'])\n",
        "Y = data[field]\n",
        "\n",
        "X_train, X_test, Y_train, Y_test = train_test_split(X, Y, test_size=0.25, random_state=42)\n",
        "\n",
        "\n",
        "plt.figure(figsize=(8, 6))\n",
        "plt.bar(['Train', 'Test'], [len(X_train), len(X_test)], color=['blue', 'green'])\n",
        "plt.title('Number of Samples in Train and Test Set')\n",
        "plt.xlabel('Dataset')\n",
        "plt.ylabel('Number of Samples')\n",
        "plt.show()\n",
        "\n",
        "X_train.to_csv('X_train.csv', index=False)\n",
        "X_test.to_csv('X_test.csv', index=False)\n",
        "Y_train.to_csv('y_train.csv', index=False)\n",
        "Y_test.to_csv('y_test.csv', index=False)\n",
        "\n",
        "print(\"Partitioned data saved.\")\n"
      ],
      "metadata": {
        "id": "1BrJ_ayLuqjp"
      },
      "execution_count": null,
      "outputs": []
    },
    {
      "cell_type": "markdown",
      "source": [
        "DMA EXPERIMENT 5"
      ],
      "metadata": {
        "id": "Lr03hiI15OUd"
      }
    },
    {
      "cell_type": "code",
      "source": [
        "import pandas as pd\n",
        "import matplotlib.pyplot as plt\n",
        "\n",
        "file_path=\"sampledata_5.xlsx\"\n",
        "data=pd.read_excel(file_path)\n",
        "\n",
        "\n",
        "field='Weight'\n",
        "\n",
        "plt.figure(figsize=(8,6))\n",
        "data.boxplot(column=field)\n",
        "plt.title(\"boxplot of \"+ field)\n",
        "plt.ylabel(field)\n",
        "plt.show()\n",
        "\n",
        "q1=data[field].quantile(0.25)\n",
        "q3=data[field].quantile(0.75)\n",
        "iqr= q3 - q1\n",
        "lower_bound=q1 - 1.5 * iqr\n",
        "upper_bound=q3 + 1.5 * iqr\n",
        "\n",
        "outliers=data[(data[field] < lower_bound) | (data[field] > upper_bound)]\n",
        "\n",
        "print(\"outliers : \")\n",
        "print(outliers)\n",
        "\n",
        "largest_values = data.nlargest(10,field)\n",
        "print(\"10 largest values for field : \")\n",
        "print(largest_values)"
      ],
      "metadata": {
        "id": "cyAKN9MM5RPD"
      },
      "execution_count": null,
      "outputs": []
    },
    {
      "cell_type": "markdown",
      "source": [
        "DMA EXPERIMENT 6"
      ],
      "metadata": {
        "id": "ert0-jogM412"
      }
    },
    {
      "cell_type": "code",
      "source": [
        "import pandas as pd\n",
        "import numpy as np\n",
        "import matplotlib\n",
        "import matplotlib.pyplot as plt\n",
        "import seaborn\n",
        "\n",
        "x=np.linspace(0,10,100)\n",
        "y=np.sin(x)\n",
        "\n",
        "#line plot\n",
        "plt.figure(figsize=(8,6))\n",
        "plt.plot(x,y,label='sin(x)')\n",
        "plt.title('Line Plot of sin(x)')\n",
        "plt.xlabel('x')\n",
        "plt.ylabel('sin(x)')\n",
        "plt.legend()\n",
        "plt.grid(True)\n",
        "plt.show\n",
        "\n",
        "#scatter plot\n",
        "np.random.seed(0)\n",
        "X=np.random.rand(100)\n",
        "Y=np.random.rand(100)\n",
        "colors=np.random.rand(100)\n",
        "sizes=1000*np.random.rand(100)\n",
        "\n",
        "plt.figure(figsize=(8,6))\n",
        "plt.scatter(x,y,c=colors,s=sizes,alpha=0.5)\n",
        "plt.title(\"scatter plot\")\n",
        "plt.xlabel('x')\n",
        "plt.ylabel('y')\n",
        "plt.colorbar(label='color')\n",
        "plt.show()\n",
        "\n",
        "#barplot\n",
        "x=['a','b','c','d','e']\n",
        "y=[10,20,15,25,35]\n",
        "\n",
        "plt.figure(figsize=(8,6))\n",
        "plt.bar(x,y)\n",
        "plt.title(\"Bar plot\")\n",
        "plt.xlabel(\"categories\")\n",
        "plt.ylabel(\"values\")\n",
        "plt.show()"
      ],
      "metadata": {
        "id": "p_cvB0s5M8EY"
      },
      "execution_count": null,
      "outputs": []
    },
    {
      "cell_type": "markdown",
      "source": [
        "DMA EXPERIMENT 7"
      ],
      "metadata": {
        "id": "iWM7FQ0Kl4TH"
      }
    },
    {
      "cell_type": "code",
      "source": [
        "import pandas as pd\n",
        "from mlxtend.frequent_patterns import apriori,association_rules\n",
        "\n",
        "file_path=\"Sampledata_7.xlsx\"\n",
        "data=pd.read_excel(file_path)\n",
        "print(data)\n",
        "\n",
        "data = data.drop(columns=['Transaction'])\n",
        "\n",
        "data_encoded = pd.get_dummies(data)\n",
        "print(data_encoded)\n",
        "\n",
        "frequent_itemsets = apriori(data_encoded, min_support = 0., use_colnames=True)\n",
        "\n",
        "rules = association_rules(frequent_itemsets, metric='lift',min_threshold=1)\n",
        "\n",
        "print(\"frequent Itemsets : \")\n",
        "print(frequent_itemsets)\n",
        "\n",
        "print(\"association rules : \")\n",
        "print(rules)"
      ],
      "metadata": {
        "id": "3OMdU7SNl6TZ",
        "colab": {
          "base_uri": "https://localhost:8080/"
        },
        "outputId": "aaceafa7-95ef-4422-f5e0-eebff86f2cc7",
        "collapsed": true
      },
      "execution_count": null,
      "outputs": [
        {
          "output_type": "stream",
          "name": "stdout",
          "text": [
            "    Transaction     Item\n",
            "0             1    Bread\n",
            "1             1     Milk\n",
            "2             1   Coffee\n",
            "3             2    Bread\n",
            "4             2  Diapers\n",
            "5             2     Beer\n",
            "6             3     Milk\n",
            "7             3  Diapers\n",
            "8             3     Beer\n",
            "9             3     Coke\n",
            "10            4    Bread\n",
            "11            4     Milk\n",
            "12            4  Diapers\n",
            "13            4     Beer\n",
            "14            5    Bread\n",
            "15            5     Milk\n",
            "16            5  Diapers\n",
            "17            5     Coke\n",
            "    Item_Beer  Item_Bread  Item_Coffee  Item_Coke  Item_Diapers  Item_Milk\n",
            "0       False        True        False      False         False      False\n",
            "1       False       False        False      False         False       True\n",
            "2       False       False         True      False         False      False\n",
            "3       False        True        False      False         False      False\n",
            "4       False       False        False      False          True      False\n",
            "5        True       False        False      False         False      False\n",
            "6       False       False        False      False         False       True\n",
            "7       False       False        False      False          True      False\n",
            "8        True       False        False      False         False      False\n",
            "9       False       False        False       True         False      False\n",
            "10      False        True        False      False         False      False\n",
            "11      False       False        False      False         False       True\n",
            "12      False       False        False      False          True      False\n",
            "13       True       False        False      False         False      False\n",
            "14      False        True        False      False         False      False\n",
            "15      False       False        False      False         False       True\n",
            "16      False       False        False      False          True      False\n",
            "17      False       False        False       True         False      False\n",
            "frequent Itemsets : \n",
            "    support        itemsets\n",
            "0  0.166667     (Item_Beer)\n",
            "1  0.222222    (Item_Bread)\n",
            "2  0.055556   (Item_Coffee)\n",
            "3  0.111111     (Item_Coke)\n",
            "4  0.222222  (Item_Diapers)\n",
            "5  0.222222     (Item_Milk)\n",
            "association rules : \n",
            "Empty DataFrame\n",
            "Columns: [antecedents, consequents, antecedent support, consequent support, support, confidence, lift, leverage, conviction, zhangs_metric]\n",
            "Index: []\n"
          ]
        },
        {
          "output_type": "stream",
          "name": "stderr",
          "text": [
            "/usr/local/lib/python3.10/dist-packages/ipykernel/ipkernel.py:283: DeprecationWarning: `should_run_async` will not call `transform_cell` automatically in the future. Please pass the result to `transformed_cell` argument and any exception that happen during thetransform in `preprocessing_exc_tuple` in IPython 7.17 and above.\n",
            "  and should_run_async(code)\n"
          ]
        }
      ]
    },
    {
      "cell_type": "markdown",
      "source": [
        "DMA EXPERIMENT 8"
      ],
      "metadata": {
        "id": "hjs6cHGVW8at"
      }
    },
    {
      "cell_type": "code",
      "source": [
        "import requests\n",
        "from bs4 import BeautifulSoup\n",
        "\n",
        "url = 'https://en.wikipedia.org/wiki/Web_mining'\n",
        "\n",
        "response = requests.get(url)\n",
        "soup = BeautifulSoup(response.text,'html.parser')\n",
        "\n",
        "paragraphs = soup.find_all('p')\n",
        "\n",
        "for paragraph in paragraphs:\n",
        "  print('******************************')\n",
        "  print(paragraph.text)\n",
        "  print('******************************')\n"
      ],
      "metadata": {
        "colab": {
          "base_uri": "https://localhost:8080/"
        },
        "id": "KzqBlw4_W_uo",
        "outputId": "2df6f765-3def-40a6-96f6-20a3b658721a"
      },
      "execution_count": null,
      "outputs": [
        {
          "output_type": "stream",
          "name": "stdout",
          "text": [
            "******************************\n",
            "Data mining is the process of extracting and discovering patterns in large data sets involving methods at the intersection of machine learning, statistics, and database systems.[1] Data mining is an interdisciplinary subfield of computer science and statistics with an overall goal of extracting information (with intelligent methods) from a data set and transforming the information into a comprehensible structure for further use.[1][2][3][4] Data mining is the analysis step of the \"knowledge discovery in databases\" process, or KDD.[5] Aside from the raw analysis step, it also involves database and data management aspects, data pre-processing, model and inference considerations, interestingness metrics, complexity considerations, post-processing of discovered structures, visualization, and online updating.[1]\n",
            "\n",
            "******************************\n",
            "******************************\n",
            "The term \"data mining\" is a misnomer because the goal is the extraction of patterns and knowledge from large amounts of data, not the extraction (mining) of data itself.[6] It also is a buzzword[7] and is frequently applied to any form of large-scale data or information processing (collection, extraction, warehousing, analysis, and statistics) as well as any application of computer decision support system, including artificial intelligence (e.g., machine learning) and business intelligence. Often the more general terms (large scale) data analysis and analytics—or, when referring to actual methods, artificial intelligence and machine learning—are more appropriate.\n",
            "\n",
            "******************************\n",
            "******************************\n",
            "The actual data mining task is the semi-automatic or automatic analysis of large quantities of data to extract previously unknown, interesting patterns such as groups of data records (cluster analysis), unusual records (anomaly detection), and dependencies (association rule mining, sequential pattern mining). This usually involves using database techniques such as spatial indices. These patterns can then be seen as a kind of summary of the input data, and may be used in further analysis or, for example, in machine learning and predictive analytics. For example, the data mining step might identify multiple groups in the data, which can then be used to obtain more accurate prediction results by a decision support system. Neither the data collection, data preparation, nor result interpretation and reporting is part of the data mining step, although they do belong to the overall KDD process as additional steps.\n",
            "\n",
            "******************************\n",
            "******************************\n",
            "The difference between data analysis and data mining is that data analysis is used to test models and hypotheses on the dataset, e.g., analyzing the effectiveness of a marketing campaign, regardless of the amount of data. In contrast, data mining uses machine learning and statistical models to uncover clandestine or hidden patterns in a large volume of data.[8]\n",
            "\n",
            "******************************\n",
            "******************************\n",
            "The related terms data dredging, data fishing, and data snooping refer to the use of data mining methods to sample parts of a larger population data set that are (or may be) too small for reliable statistical inferences to be made about the validity of any patterns discovered. These methods can, however, be used in creating new hypotheses to test against the larger data populations.\n",
            "\n",
            "******************************\n",
            "******************************\n",
            "In the 1960s, statisticians and economists used terms like data fishing or data dredging to refer to what they considered the bad practice of analyzing data without an a-priori hypothesis. The term \"data mining\" was used in a similarly critical way by economist Michael Lovell in an article published in the Review of Economic Studies in 1983.[9][10] Lovell indicates that the practice \"masquerades under a variety of aliases, ranging from \"experimentation\" (positive) to \"fishing\" or \"snooping\" (negative).\n",
            "\n",
            "******************************\n",
            "******************************\n",
            "The term data mining appeared around 1990 in the database community, with generally positive connotations. For a short time in 1980s, the phrase \"database mining\"™, was used, but since it was trademarked by HNC, a San Diego-based company, to pitch their Database Mining Workstation;[11] researchers consequently turned to data mining. Other terms used include data archaeology, information harvesting, information discovery, knowledge extraction, etc. Gregory Piatetsky-Shapiro coined the term \"knowledge discovery in databases\" for the first workshop on the same topic (KDD-1989) and this term became more popular in the AI and machine learning communities. However, the term data mining became more popular in the business and press communities.[12] Currently, the terms data mining and knowledge discovery are used interchangeably.\n",
            "\n",
            "******************************\n",
            "******************************\n",
            "The manual extraction of patterns from data has occurred for centuries. Early methods of identifying patterns in data include Bayes' theorem (1700s) and regression analysis (1800s).[13] The proliferation, ubiquity and increasing power of computer technology have dramatically increased data collection, storage, and manipulation ability. As data sets have grown in size and complexity, direct \"hands-on\" data analysis has increasingly been augmented with indirect, automated data processing, aided by other discoveries in computer science, specially in the field of machine learning, such as neural networks, cluster analysis, genetic algorithms (1950s), decision trees and decision rules (1960s), and support vector machines (1990s). Data mining is the process of applying these methods with the intention of uncovering hidden patterns.[14] in large data sets. It bridges the gap from applied statistics and artificial intelligence (which usually provide the mathematical background) to database management by exploiting the way data is stored and indexed in databases to execute the actual learning and discovery algorithms more efficiently, allowing such methods to be applied to ever-larger data sets.\n",
            "\n",
            "******************************\n",
            "******************************\n",
            "The knowledge discovery in databases (KDD) process is commonly defined with the stages:\n",
            "\n",
            "******************************\n",
            "******************************\n",
            "It exists, however, in many variations on this theme, such as the Cross-industry standard process for data mining (CRISP-DM) which defines six phases:\n",
            "\n",
            "******************************\n",
            "******************************\n",
            "or a simplified process such as (1) Pre-processing, (2) Data Mining, and (3) Results Validation.\n",
            "\n",
            "******************************\n",
            "******************************\n",
            "Polls conducted in 2002, 2004, 2007 and 2014 show that the CRISP-DM methodology is the leading methodology used by data miners.[15][16][17][18]\n",
            "\n",
            "******************************\n",
            "******************************\n",
            "The only other data mining standard named in these polls was SEMMA. However, 3–4 times as many people reported using CRISP-DM. Several teams of researchers have published reviews of data mining process models,[19] and Azevedo and Santos conducted a comparison of CRISP-DM and SEMMA in 2008.[20]\n",
            "\n",
            "******************************\n",
            "******************************\n",
            "Before data mining algorithms can be used, a target data set must be assembled. As data mining can only uncover patterns actually present in the data, the target data set must be large enough to contain these patterns while remaining concise enough to be mined within an acceptable time limit. A common source for data is a data mart or data warehouse. Pre-processing is essential to analyze the multivariate data sets before data mining. The target set is then cleaned. Data cleaning removes the observations containing noise and those with missing data.\n",
            "\n",
            "******************************\n",
            "******************************\n",
            "Data mining involves six common classes of tasks:[5]\n",
            "\n",
            "******************************\n",
            "******************************\n",
            "Data mining can unintentionally be misused, producing results that appear to be significant but which do not actually predict future behavior and cannot be reproduced on a new sample of data, therefore bearing little use. This is sometimes caused by investigating too many hypotheses and not performing proper statistical hypothesis testing. A simple version of this problem in machine learning is known as overfitting, but the same problem can arise at different phases of the process and thus a train/test split—when applicable at all—may not be sufficient to prevent this from happening.[21]\n",
            "\n",
            "******************************\n",
            "******************************\n",
            "The final step of knowledge discovery from data is to verify that the patterns produced by the data mining algorithms occur in the wider data set. Not all patterns found by the algorithms are necessarily valid. It is common for data mining algorithms to find patterns in the training set which are not present in the general data set. This is called overfitting. To overcome this, the evaluation uses a test set of data on which the data mining algorithm was not trained. The learned patterns are applied to this test set, and the resulting output is compared to the desired output. For example, a data mining algorithm trying to distinguish \"spam\" from \"legitimate\" e-mails would be trained on a training set of sample e-mails. Once trained, the learned patterns would be applied to the test set of e-mails on which it had not been trained. The accuracy of the patterns can then be measured from how many e-mails they correctly classify. Several statistical methods may be used to evaluate the algorithm, such as ROC curves.\n",
            "\n",
            "******************************\n",
            "******************************\n",
            "If the learned patterns do not meet the desired standards, it is necessary to re-evaluate and change the pre-processing and data mining steps. If the learned patterns do meet the desired standards, then the final step is to interpret the learned patterns and turn them into knowledge.\n",
            "\n",
            "******************************\n",
            "******************************\n",
            "The premier professional body in the field is the Association for Computing Machinery's (ACM) Special Interest Group (SIG) on Knowledge Discovery and Data Mining (SIGKDD).[22][23] Since 1989, this ACM SIG has hosted an annual international conference and published its proceedings,[24] and since 1999 it has published a biannual academic journal titled \"SIGKDD Explorations\".[25]\n",
            "\n",
            "******************************\n",
            "******************************\n",
            "Computer science conferences on data mining include:\n",
            "\n",
            "******************************\n",
            "******************************\n",
            "Data mining topics are also present in many data management/database conferences such as the ICDE Conference, SIGMOD Conference and International Conference on Very Large Data Bases.\n",
            "\n",
            "******************************\n",
            "******************************\n",
            "There have been some efforts to define standards for the data mining process, for example, the 1999 European Cross Industry Standard Process for Data Mining (CRISP-DM 1.0) and the 2004 Java Data Mining standard (JDM 1.0). Development on successors to these processes (CRISP-DM 2.0 and JDM 2.0) was active in 2006 but has stalled since. JDM 2.0 was withdrawn without reaching a final draft.\n",
            "\n",
            "******************************\n",
            "******************************\n",
            "For exchanging the extracted models—in particular for use in predictive analytics—the key standard is the Predictive Model Markup Language (PMML), which is an XML-based language developed by the Data Mining Group (DMG) and supported as exchange format by many data mining applications. As the name suggests, it only covers prediction models, a particular data mining task of high importance to business applications. However, extensions to cover (for example) subspace clustering have been proposed independently of the DMG.[26]\n",
            "\n",
            "******************************\n",
            "******************************\n",
            "Data mining is used wherever there is digital data available. Notable examples of data mining can be found throughout business, medicine, science, finance, construction, and surveillance.\n",
            "\n",
            "******************************\n",
            "******************************\n",
            "While the term \"data mining\" itself may have no ethical implications, it is often associated with the mining of information in relation to user behavior (ethical and otherwise).[27]\n",
            "\n",
            "******************************\n",
            "******************************\n",
            "The ways in which data mining can be used can in some cases and contexts raise questions regarding privacy, legality, and ethics.[28] In particular, data mining government or commercial data sets for national security or law enforcement purposes, such as in the Total Information Awareness Program or in ADVISE, has raised privacy concerns.[29][30]\n",
            "\n",
            "******************************\n",
            "******************************\n",
            "Data mining requires data preparation which uncovers information or patterns which compromise confidentiality and privacy obligations. A common way for this to occur is through data aggregation. Data aggregation involves combining data together (possibly from various sources) in a way that facilitates analysis (but that also might make identification of private, individual-level data deducible or otherwise apparent).[31] This is not data mining per se, but a result of the preparation of data before—and for the purposes of—the analysis. The threat to an individual's privacy comes into play when the data, once compiled, cause the data miner, or anyone who has access to the newly compiled data set, to be able to identify specific individuals, especially when the data were originally anonymous.[32]\n",
            "\n",
            "******************************\n",
            "******************************\n",
            "It is recommended[according to whom?] to be aware of the following before data are collected:[31]\n",
            "\n",
            "******************************\n",
            "******************************\n",
            "Data may also be modified so as to become anonymous, so that individuals may not readily be identified.[31] However, even \"anonymized\" data sets can potentially contain enough information to allow identification of individuals, as occurred when journalists were able to find several individuals based on a set of search histories that were inadvertently released by AOL.[33]\n",
            "\n",
            "******************************\n",
            "******************************\n",
            "The inadvertent revelation of personally identifiable information leading to the provider violates Fair Information Practices.   This indiscretion can cause financial,\n",
            "emotional, or bodily harm to the indicated individual.  In one instance of privacy violation, the patrons of Walgreens filed a lawsuit against the company in 2011 for selling\n",
            "prescription information to data mining companies who in turn provided the data\n",
            "to pharmaceutical companies.[34]\n",
            "\n",
            "******************************\n",
            "******************************\n",
            "Europe has rather strong privacy laws, and efforts are underway to further strengthen the rights of the consumers. However, the U.S.–E.U. Safe Harbor Principles, developed between 1998 and 2000, currently effectively expose European users to privacy exploitation by U.S. companies. As a consequence of Edward Snowden's global surveillance disclosure, there has been increased discussion to revoke this agreement, as in particular the data will be fully exposed to the National Security Agency, and attempts to reach an agreement with the United States have failed.[35]\n",
            "\n",
            "******************************\n",
            "******************************\n",
            "In the United Kingdom in particular there have been cases of corporations using data mining as a way to target certain groups of customers forcing them to pay unfairly high prices. These groups tend to be people of lower socio-economic status who are not savvy to the ways they can be exploited in digital market places.[36]\n",
            "\n",
            "******************************\n",
            "******************************\n",
            "In the United States, privacy concerns have been addressed by the US Congress via the passage of regulatory controls such as the Health Insurance Portability and Accountability Act (HIPAA). The HIPAA requires individuals to give their \"informed consent\" regarding information they provide and its intended present and future uses. According to an article in Biotech Business Week, \"'[i]n practice, HIPAA may not offer any greater protection than the longstanding regulations in the research arena,' says the AAHC. More importantly, the rule's goal of protection through informed consent is approach a level of incomprehensibility to average individuals.\"[37] This underscores the necessity for data anonymity in data aggregation and mining practices.\n",
            "\n",
            "******************************\n",
            "******************************\n",
            "U.S. information privacy legislation such as HIPAA and the Family Educational Rights and Privacy Act (FERPA) applies only to the specific areas that each such law addresses. The use of data mining by the majority of businesses in the U.S. is not controlled by any legislation.\n",
            "\n",
            "******************************\n",
            "******************************\n",
            "Under European copyright database laws, the mining of in-copyright works (such as by web mining) without the permission of the copyright owner is not legal. Where a database is pure data in Europe, it may be that there is no copyright—but database rights may exist, so data mining becomes subject to intellectual property owners' rights that are protected by the Database Directive. On the recommendation of the Hargreaves review, this led to the UK government to amend its copyright law in 2014 to allow content mining as a limitation and exception.[38] The UK was the second country in the world to do so after Japan, which introduced an exception in 2009 for data mining. However, due to the restriction of the Information Society Directive (2001), the UK exception only allows content mining for non-commercial purposes. UK copyright law also does not allow this provision to be overridden by contractual terms and conditions.\n",
            "Since 2020 also Switzerland has been regulating data mining by allowing it in the research field under certain conditions laid down by art. 24d of the Swiss Copyright Act. This new article entered into force on 1 April 2020.[39]\n",
            "\n",
            "******************************\n",
            "******************************\n",
            "The European Commission facilitated stakeholder discussion on text and data mining in 2013, under the title of Licences for Europe.[40] The focus on the solution to this legal issue, such as licensing rather than limitations and exceptions, led to representatives of universities, researchers, libraries, civil society groups and open access publishers to leave the stakeholder dialogue in May 2013.[41]\n",
            "\n",
            "******************************\n",
            "******************************\n",
            "US copyright law, and in particular its provision for fair use, upholds the legality of content mining in America, and other fair use countries such as Israel, Taiwan and South Korea. As content mining is transformative, that is it does not supplant the original work, it is viewed as being lawful under fair use. For example, as part of the Google Book settlement the presiding judge on the case ruled that Google's digitization project of in-copyright books was lawful, in part because of the transformative uses that the digitization project displayed—one being text and data mining.[42]\n",
            "\n",
            "******************************\n",
            "******************************\n",
            "The following applications are available under free/open-source licenses. Public access to application source code is also available.\n",
            "\n",
            "******************************\n",
            "******************************\n",
            "The following applications are available under proprietary licenses.\n",
            "\n",
            "******************************\n",
            "******************************\n",
            "For more information about extracting information out of data (as opposed to analyzing data), see:\n",
            "\n",
            "******************************\n"
          ]
        }
      ]
    }
  ]
}