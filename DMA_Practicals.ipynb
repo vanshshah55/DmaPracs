{
  "nbformat": 4,
  "nbformat_minor": 0,
  "metadata": {
    "colab": {
      "provenance": [],
      "authorship_tag": "ABX9TyOH0JWshQ1i6GuB+LuEnBel",
      "include_colab_link": true
    },
    "kernelspec": {
      "name": "python3",
      "display_name": "Python 3"
    },
    "language_info": {
      "name": "python"
    }
  },
  "cells": [
    {
      "cell_type": "markdown",
      "metadata": {
        "id": "view-in-github",
        "colab_type": "text"
      },
      "source": [
        "<a href=\"https://colab.research.google.com/github/vanshshah55/DmaPracs/blob/main/DMA_Practicals.ipynb\" target=\"_parent\"><img src=\"https://colab.research.google.com/assets/colab-badge.svg\" alt=\"Open In Colab\"/></a>"
      ]
    },
    {
      "cell_type": "markdown",
      "source": [
        "DMA EXPERIMENT 1\n",
        "\n",
        "*   Pandas\n",
        "\n"
      ],
      "metadata": {
        "id": "ufOJpSewlXK-"
      }
    },
    {
      "cell_type": "code",
      "source": [
        "import numpy as np\n",
        "import pandas as pd\n",
        "\n",
        "file_path=\"sampledata.xlsx\"\n",
        "\n",
        "df=pd.read_excel(file_path)\n",
        "\n",
        "\n",
        "column_list=(list(df.columns[2:5]))\n",
        "print(column_list)\n",
        "\n",
        "for i in column_list:\n",
        "  print(f\"********************************************************************\")\n",
        "  print(f\"***************\",i,\"************************************************\")\n",
        "  print(f\"********************************************************************\")\n",
        "  data_column_name=i\n",
        "  data=df[data_column_name]\n",
        "  summary_statistics = data.describe()\n",
        "  print(summary_statistics)\n",
        "  print(f\"mean = \",data.mean())\n",
        "  print(f\"median = \",data.median())\n",
        "  print(f\"mode = \",data.mode().iloc[0])\n",
        "  print(f\"standard deviaition = \",data.std())\n",
        "  print(f\"25 percentile = \",data.quantile(0.25))\n",
        "  print(f\"50 percentile = \",data.quantile(0.50))\n",
        "  print(f\"75 percentile = \",data.quantile(0.75))"
      ],
      "metadata": {
        "id": "CZZhpT73lc4P"
      },
      "execution_count": null,
      "outputs": []
    },
    {
      "cell_type": "markdown",
      "source": [
        "\n",
        "\n",
        "*   Numpy\n",
        "\n",
        "\n"
      ],
      "metadata": {
        "id": "UQ82C54fyM1a"
      }
    },
    {
      "cell_type": "code",
      "source": [
        "import numpy as np\n",
        "import pandas as pd\n",
        "file_path=\"sampledata.xlsx\"\n",
        "\n",
        "df=pd.read_excel(file_path)\n",
        "column_list=(list(df.columns[2:5]))\n",
        "print(column_list)\n",
        "\n",
        "numerical_data = df.iloc[:, 2:5]\n",
        "\n",
        "for i in numerical_data.columns:\n",
        "  column_data = numerical_data[i]\n",
        "  mean=np.mean(column_data)\n",
        "  median = np.median(column_data)\n",
        "  mode = column_data.mode().values[0]\n",
        "  std_dev = np.std(column_data)\n",
        "  quartiles = np.percentile(column_data, [25, 50, 75])\n",
        "\n",
        "  print(f\"Name: {i}\")\n",
        "  print(f\"mean = {mean}\")\n",
        "  print(f\"median = {median}\")\n",
        "  print(f\"mode = {mode}\")\n",
        "  print(f\"standard deviation = {std_dev}\")\n",
        "  print(f\"25th percentile = {quartiles[0]}\")\n",
        "  print(f\"50th percentile = {quartiles[1]}\")\n",
        "  print(f\"75th percentile = {quartiles[2]}\\n\")\n"
      ],
      "metadata": {
        "id": "rfKB_-CDyXUp"
      },
      "execution_count": null,
      "outputs": []
    },
    {
      "cell_type": "markdown",
      "source": [
        "DMA EXPERIMENT 2\n",
        "\n",
        "\n",
        "*   Missing value\n",
        "\n",
        "\n"
      ],
      "metadata": {
        "id": "2HMYTl2XbgVm"
      }
    },
    {
      "cell_type": "code",
      "source": [
        "import numpy as np\n",
        "import pandas as pd\n",
        "\n",
        "file_path=\"sampledata2.xlsx\"\n",
        "\n",
        "data=pd.read_excel(file_path)\n",
        "\n",
        "missing_values=data.isnull().sum()\n",
        "print(f\"total numbers of missing values per column\")\n",
        "print(missing_values)\n",
        "numeric_data = data.select_dtypes(include=np.number)\n",
        "\n",
        "#data.fillna(numeric_data.mean(),inplace=True)\n",
        "\n",
        "#missing_values=data.isnull().sum()\n",
        "#print(missing_values)\n",
        "#print(data)\n",
        "print(data.shape)\n",
        "data_clean=data.dropna(inplace=True)\n",
        "#print(data)\n",
        "\n",
        "original_length = len(data)\n",
        "data.drop_duplicates(inplace=True)\n",
        "new_length = len(data)\n",
        "\n",
        "print(original_length)\n",
        "print(new_length)\n",
        "print(data)\n",
        "print(data.shape)"
      ],
      "metadata": {
        "id": "r7dZGWppbm0X"
      },
      "execution_count": null,
      "outputs": []
    },
    {
      "cell_type": "markdown",
      "source": [
        "DMA EXPERIMENT 3\n",
        "\n",
        "*   one hot encoding (0&1)\n",
        "\n",
        "\n"
      ],
      "metadata": {
        "id": "umHd2ckTb14x"
      }
    },
    {
      "cell_type": "code",
      "source": [
        "import numpy as np\n",
        "import pandas as pd\n",
        "\n",
        "df = pd.DataFrame({\n",
        "    'Fruit': ['apple', 'mango', 'apple', 'orange'],\n",
        "    'Price': [5, 10, 15, 20]\n",
        "})\n",
        "print(df)\n",
        "\n",
        "encoded_df=pd.get_dummies(df,prefix='',dtype=int)\n",
        "\n",
        "\n",
        "print(encoded_df)\n"
      ],
      "metadata": {
        "id": "lBZmjQiTb4qA"
      },
      "execution_count": null,
      "outputs": []
    },
    {
      "cell_type": "markdown",
      "source": [
        "DMA EXPERIMENT 4\n",
        "\n",
        "\n",
        "*   outliers train test model\n",
        "\n",
        "\n"
      ],
      "metadata": {
        "id": "8BRKyx21un0T"
      }
    },
    {
      "cell_type": "code",
      "source": [
        "import numpy as np\n",
        "import pandas as pd\n",
        "from sklearn.model_selection import train_test_split\n",
        "from sklearn.preprocessing import StandardScaler\n",
        "import matplotlib.pyplot as plt\n",
        "\n",
        "file_path = \"sampledata_4.xlsx\"\n",
        "data = pd.read_excel(file_path)\n",
        "print(data)\n",
        "\n",
        "field = 'Age'\n",
        "\n",
        "# Drop rows with missing values in the 'Age' column\n",
        "data.dropna(subset=[field], inplace=True)\n",
        "\n",
        "# Standardize the 'Age' variable\n",
        "scaler = StandardScaler()\n",
        "data[field+'_standardized'] = scaler.fit_transform(data[[field]])\n",
        "\n",
        "# Identify outliers\n",
        "q1 = data[field+'_standardized'].quantile(0.25)\n",
        "q3 = data[field+'_standardized'].quantile(0.75)\n",
        "iqr = q3 - q1\n",
        "lower_bound = q1 - 1.5 * iqr\n",
        "upper_bound = q3 + 1.5 * iqr\n",
        "\n",
        "outliers = data[(data[field+'_standardized'] < lower_bound) | (data[field+'_standardized'] > upper_bound)]\n",
        "num_outliers = len(outliers)\n",
        "most_extreme_outlier = outliers[field+'_standardized'].min() if num_outliers > 0 else None\n",
        "\n",
        "print(\"Number of outliers:\", num_outliers)\n",
        "print(\"Most extreme outlier:\", most_extreme_outlier)\n",
        "\n",
        "plt.figure(figsize=(8,6))\n",
        "data.boxplot(column=field)\n",
        "plt.ylabel('Age')\n",
        "plt.show()\n",
        "\n",
        "# Partition the dataset\n",
        "X = data.drop(columns=[field, field+'_standardized'])\n",
        "Y = data[field]\n",
        "\n",
        "X_train, X_test, Y_train, Y_test = train_test_split(X, Y, test_size=0.25, random_state=42)\n",
        "\n",
        "\n",
        "plt.figure(figsize=(8, 6))\n",
        "plt.bar(['Train', 'Test'], [len(X_train), len(X_test)], color=['blue', 'green'])\n",
        "plt.title('Number of Samples in Train and Test Set')\n",
        "plt.xlabel('Dataset')\n",
        "plt.ylabel('Number of Samples')\n",
        "plt.show()\n",
        "\n",
        "X_train.to_csv('X_train.csv', index=False)\n",
        "X_test.to_csv('X_test.csv', index=False)\n",
        "Y_train.to_csv('y_train.csv', index=False)\n",
        "Y_test.to_csv('y_test.csv', index=False)\n",
        "\n",
        "print(\"Partitioned data saved.\")\n"
      ],
      "metadata": {
        "id": "1BrJ_ayLuqjp"
      },
      "execution_count": null,
      "outputs": []
    },
    {
      "cell_type": "markdown",
      "source": [
        "DMA EXPERIMENT 5\n",
        "\n",
        "*   outlier detection box plot\n",
        "\n",
        "\n"
      ],
      "metadata": {
        "id": "Lr03hiI15OUd"
      }
    },
    {
      "cell_type": "code",
      "source": [
        "import pandas as pd\n",
        "import matplotlib.pyplot as plt\n",
        "\n",
        "file_path=\"sampledata_5.xlsx\"\n",
        "data=pd.read_excel(file_path)\n",
        "\n",
        "\n",
        "field='Weight'\n",
        "\n",
        "plt.figure(figsize=(8,6))\n",
        "data.boxplot(column=field)\n",
        "plt.title(\"boxplot of \"+ field)\n",
        "plt.ylabel(field)\n",
        "plt.show()\n",
        "\n",
        "q1=data[field].quantile(0.25)\n",
        "q3=data[field].quantile(0.75)\n",
        "iqr= q3 - q1\n",
        "lower_bound=q1 - 1.5 * iqr\n",
        "upper_bound=q3 + 1.5 * iqr\n",
        "\n",
        "outliers=data[(data[field] < lower_bound) | (data[field] > upper_bound)]\n",
        "\n",
        "print(\"outliers : \")\n",
        "print(outliers)\n",
        "\n",
        "largest_values = data.nlargest(10,field)\n",
        "print(\"10 largest values for field : \")\n",
        "print(largest_values)"
      ],
      "metadata": {
        "id": "cyAKN9MM5RPD"
      },
      "execution_count": null,
      "outputs": []
    },
    {
      "cell_type": "markdown",
      "source": [
        "DMA EXPERIMENT 6\n",
        "\n",
        "*   different graphs\n",
        "\n",
        "\n"
      ],
      "metadata": {
        "id": "ert0-jogM412"
      }
    },
    {
      "cell_type": "code",
      "source": [
        "import pandas as pd\n",
        "import numpy as np\n",
        "import matplotlib\n",
        "import matplotlib.pyplot as plt\n",
        "import seaborn\n",
        "\n",
        "x=np.linspace(0,10,100)\n",
        "y=np.sin(x)\n",
        "\n",
        "#line plot\n",
        "plt.figure(figsize=(8,6))\n",
        "plt.plot(x,y,label='sin(x)')\n",
        "plt.title('Line Plot of sin(x)')\n",
        "plt.xlabel('x')\n",
        "plt.ylabel('sin(x)')\n",
        "plt.legend()\n",
        "plt.grid(True)\n",
        "plt.show\n",
        "\n",
        "#scatter plot\n",
        "np.random.seed(0)\n",
        "X=np.random.rand(100)\n",
        "Y=np.random.rand(100)\n",
        "colors=np.random.rand(100)\n",
        "sizes=1000*np.random.rand(100)\n",
        "\n",
        "plt.figure(figsize=(8,6))\n",
        "plt.scatter(x,y,c=colors,s=sizes,alpha=0.5)\n",
        "plt.title(\"scatter plot\")\n",
        "plt.xlabel('x')\n",
        "plt.ylabel('y')\n",
        "plt.colorbar(label='color')\n",
        "plt.show()\n",
        "\n",
        "#barplot\n",
        "x=['a','b','c','d','e']\n",
        "y=[10,20,15,25,35]\n",
        "\n",
        "plt.figure(figsize=(8,6))\n",
        "plt.bar(x,y)\n",
        "plt.title(\"Bar plot\")\n",
        "plt.xlabel(\"categories\")\n",
        "plt.ylabel(\"values\")\n",
        "plt.show()"
      ],
      "metadata": {
        "id": "p_cvB0s5M8EY"
      },
      "execution_count": null,
      "outputs": []
    },
    {
      "cell_type": "markdown",
      "source": [
        "DMA EXPERIMENT 7\n",
        "\n",
        "\n",
        "*   apriori\n",
        "\n",
        "\n",
        "\n",
        "\n"
      ],
      "metadata": {
        "id": "iWM7FQ0Kl4TH"
      }
    },
    {
      "cell_type": "code",
      "source": [
        "import pandas as pd\n",
        "from mlxtend.frequent_patterns import apriori,association_rules\n",
        "\n",
        "file_path=\"Sampledata_7.xlsx\"\n",
        "data=pd.read_excel(file_path)\n",
        "print(data)\n",
        "\n",
        "data = data.drop(columns=['Transaction'])\n",
        "\n",
        "data_encoded = pd.get_dummies(data)\n",
        "print(data_encoded)\n",
        "\n",
        "frequent_itemsets = apriori(data_encoded, min_support = 0., use_colnames=True)\n",
        "\n",
        "rules = association_rules(frequent_itemsets, metric='lift',min_threshold=1)\n",
        "\n",
        "print(\"frequent Itemsets : \")\n",
        "print(frequent_itemsets)\n",
        "\n",
        "print(\"association rules : \")\n",
        "print(rules)"
      ],
      "metadata": {
        "id": "3OMdU7SNl6TZ",
        "collapsed": true
      },
      "execution_count": null,
      "outputs": []
    },
    {
      "cell_type": "markdown",
      "source": [
        "DMA EXPERIMENT 8"
      ],
      "metadata": {
        "id": "hjs6cHGVW8at"
      }
    },
    {
      "cell_type": "code",
      "source": [
        "import requests\n",
        "from bs4 import BeautifulSoup\n",
        "\n",
        "url = 'https://en.wikipedia.org/wiki/Web_mining'\n",
        "\n",
        "response = requests.get(url)\n",
        "soup = BeautifulSoup(response.text,'html.parser')\n",
        "\n",
        "paragraphs = soup.find_all('p')\n",
        "\n",
        "for paragraph in paragraphs:\n",
        "  print('******************************')\n",
        "  print(paragraph.text)\n",
        "  print('******************************')\n"
      ],
      "metadata": {
        "id": "KzqBlw4_W_uo"
      },
      "execution_count": null,
      "outputs": []
    }
  ]
}